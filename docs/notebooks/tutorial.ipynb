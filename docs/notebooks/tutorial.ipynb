{
 "cells": [
  {
   "cell_type": "markdown",
   "metadata": {},
   "source": [
    "Zipline beginner tutorial\n",
    "=========================\n",
    "\n",
    "Basics\n",
    "------\n",
    "\n",
    "Zipline is an open-source algorithmic trading simulator written in Python.\n",
    "\n",
    "The source can be found at: https://github.com/quantopian/zipline\n",
    "\n",
    "Some benefits include:\n",
    "\n",
    "* Realistic: slippage, transaction costs, order delays.\n",
    "* Stream-based: Process each event individually, avoids look-ahead bias.\n",
    "* Batteries included: Common transforms (moving average) as well as common risk calculations (Sharpe).\n",
    "* Developed and continuously updated by [Quantopian](https://www.quantopian.com) which provides an easy-to-use web-interface to Zipline, 10 years of minute-resolution historical US stock data, and live-trading capabilities. This tutorial is directed at users wishing to use Zipline without using Quantopian. If you instead want to get started on Quantopian, see [here](https://www.quantopian.com/faq#get-started).\n",
    "\n",
    "This tutorial assumes that you have zipline correctly installed, see the [installation instructions](https://github.com/quantopian/zipline#installation) if you haven't set up zipline yet.\n",
    "\n",
    "Every `zipline` algorithm consists of two functions you have to define:\n",
    "* `initialize(context)`\n",
    "* `handle_data(context, data)`\n",
    "\n",
    "Before the start of the algorithm, `zipline` calls the `initialize()` function and passes in a `context` variable. `context` is a persistent namespace for you to store variables you need to access from one algorithm iteration to the next.\n",
    "\n",
    "After the algorithm has been initialized, `zipline` calls the `handle_data()` function once for each event. At every call, it passes the same `context` variable and an event-frame called `data` containing the current trading bar with open, high, low, and close (OHLC) prices as well as volume for each stock in your universe. For more information on these functions, see the [relevant part of the Quantopian docs](https://www.quantopian.com/help#api-toplevel)."
   ]
  },
  {
   "cell_type": "markdown",
   "metadata": {},
   "source": [
    "My first algorithm\n",
    "----------------------\n",
    "\n",
    "Lets take a look at a very simple algorithm from the `examples` directory, `buyapple.py`:"
   ]
  },
  {
   "cell_type": "code",
   "execution_count": 1,
   "metadata": {
    "collapsed": false
   },
   "outputs": [
    {
     "name": "stdout",
     "output_type": "stream",
     "text": [
      "    # Load price data from yahoo.\r\n",
      "    data = load_from_yahoo(stocks=['AAPL'], indexes={}, start=start,\r\n",
      "                           end=end)\r\n",
      "\r\n",
      "    # Create and run the algorithm.\r\n",
      "    algo = TradingAlgorithm(initialize=initialize, handle_data=handle_data,\r\n",
      "                            identifiers=['AAPL'])\r\n",
      "    results = algo.run(data)\r\n",
      "\r\n",
      "    analyze(results=results)\r\n"
     ]
    }
   ],
   "source": [
    "!tail ../../zipline/examples/buyapple.py"
   ]
  },
  {
   "cell_type": "markdown",
   "metadata": {},
   "source": [
    "As you can see, we first have to import some functions we would like to use. All functions commonly used in your algorithm can be found in `zipline.api`. Here we are using `order()` which takes two arguments -- a security object, and a number specifying how many stocks you would like to order (if negative, `order()` will sell/short stocks). In this case we want to order 10 shares of Apple at each iteration. For more documentation on `order()`, see the [Quantopian docs](https://www.quantopian.com/help#api-order).\n",
    "\n",
    "You don't have to use the `symbol()` function and could just pass in `AAPL` directly but it is good practice as this way your code will be Quantopian compatible.\n",
    "\n",
    "Finally, the `record()` function allows you to save the value of a variable at each iteration. You provide it with a name for the variable together with the variable itself: `varname=var`. After the algorithm finished running you will have access to each variable value you tracked with `record()` under the name you provided (we will see this further below). You also see how we can access the current price data of the AAPL stock in the `data` event frame (for more information see [here](https://www.quantopian.com/help#api-event-properties)."
   ]
  },
  {
   "cell_type": "markdown",
   "metadata": {},
   "source": [
    "## Running the algorithm\n",
    "\n",
    "To now test this algorithm on financial data, `zipline` provides two interfaces. A command-line interface and an `IPython Notebook` interface.\n",
    "\n",
    "### Command line interface\n",
    "After you installed zipline you should be able to execute the following from your command line (e.g. `cmd.exe` on Windows, or the Terminal app on OSX):"
   ]
  },
  {
   "cell_type": "code",
   "execution_count": 2,
   "metadata": {
    "collapsed": false
   },
   "outputs": [
    {
     "name": "stdout",
     "output_type": "stream",
     "text": [
      "usage: run_algo.py [-h] [-c FILE] [--algofile ALGOFILE] [--data-frequency {minute,daily}] [--start START] [--end END]\r\n",
      "                   [--capital_base CAPITAL_BASE] [--source {yahoo}] [--source_time_column SOURCE_TIME_COLUMN] [--symbols SYMBOLS]\r\n",
      "                   [--output OUTPUT] [--metadata_path METADATA_PATH] [--metadata_index METADATA_INDEX] [--print-algo] [--no-print-algo]\r\n",
      "\r\n",
      "Zipline version 0.8.0rc1.\r\n",
      "\r\n",
      "optional arguments:\r\n",
      "  -h, --help            show this help message and exit\r\n",
      "  -c FILE, --conf_file FILE\r\n",
      "                        Specify config file\r\n",
      "  --algofile ALGOFILE, -f ALGOFILE\r\n",
      "  --data-frequency {minute,daily}\r\n",
      "  --start START, -s START\r\n",
      "  --end END, -e END\r\n",
      "  --capital_base CAPITAL_BASE\r\n",
      "  --source {yahoo}, -d {yahoo}\r\n",
      "  --source_time_column SOURCE_TIME_COLUMN, -t SOURCE_TIME_COLUMN\r\n",
      "  --symbols SYMBOLS\r\n",
      "  --output OUTPUT, -o OUTPUT\r\n",
      "  --metadata_path METADATA_PATH, -m METADATA_PATH\r\n",
      "  --metadata_index METADATA_INDEX, -x METADATA_INDEX\r\n",
      "  --print-algo, -p\r\n",
      "  --no-print-algo, -q\r\n"
     ]
    }
   ],
   "source": [
    "!run_algo.py --help"
   ]
  },
  {
   "cell_type": "markdown",
   "metadata": {},
   "source": [
    "Note that you have to omit the preceding '!' when you call `run_algo.py`, this is only required by the IPython Notebook in which this tutorial was written.\n",
    "\n",
    "As you can see there are a couple of flags that specify where to find your algorithm (`-f`) as well as parameters specifying which stock data to load from Yahoo! finance (`--symbols`) and the time-range (`--start` and `--end`). Finally, you'll want to save the performance metrics of your algorithm so that you can analyze how it performed. This is done via the `--output` flag and will cause it to write the performance `DataFrame` in the pickle Python file format. Note that you can also define a configuration file with these parameters that you can then conveniently pass to the `-c` option so that you don't have to supply the command line args all the time (see the .conf files in the examples directory).\n",
    "\n",
    "Thus, to execute our algorithm from above and save the results to `buyapple_out.pickle` we would call `run_algo.py` as follows:"
   ]
  },
  {
   "cell_type": "code",
   "execution_count": 3,
   "metadata": {
    "collapsed": false
   },
   "outputs": [
    {
     "name": "stdout",
     "output_type": "stream",
     "text": [
      "AAPL\n",
      "[2015-11-04 22:45:32.820166] INFO: Performance: Simulated 3521 trading days out of 3521.\n",
      "[2015-11-04 22:45:32.820314] INFO: Performance: first open: 2000-01-03 14:31:00+00:00\n",
      "[2015-11-04 22:45:32.820401] INFO: Performance: last close: 2013-12-31 21:00:00+00:00\n"
     ]
    }
   ],
   "source": [
    "!run_algo.py -f ../../zipline/examples/buyapple.py --start 2000-1-1 --end 2014-1-1 --symbols AAPL -o buyapple_out.pickle"
   ]
  },
  {
   "cell_type": "markdown",
   "metadata": {},
   "source": [
    "`run_algo.py` first outputs the algorithm contents. It then fetches historical price and volume data of Apple from Yahoo! finance in the desired time range, calls the `initialize()` function, and then streams the historical stock price day-by-day through `handle_data()`. After each call to `handle_data()` we instruct `zipline` to order 10 stocks of AAPL. After the call of the `order()` function, `zipline` enters the ordered stock and amount in the order book. After the `handle_data()` function has finished, `zipline` looks for any open orders and tries to fill them. If the trading volume is high enough for this stock, the order is executed after adding the commission and applying the slippage model which models the influence of your order on the stock price, so your algorithm will be charged more than just the stock price * 10. (Note, that you can also change the commission and slippage model that `zipline` uses, see the [Quantopian docs](https://www.quantopian.com/help#ide-slippage) for more information).\n",
    "\n",
    "Note that there is also an `analyze()` function printed. `run_algo.py` will try and look for a file with the ending with `_analyze.py` and the same name of the algorithm (so `buyapple_analyze.py`) or an `analyze()` function directly in the script. If an `analyze()` function is found it will be called *after* the simulation has finished and passed in the performance `DataFrame`. (The reason for allowing specification of an `analyze()` function in a separate file is that this way `buyapple.py` remains a valid Quantopian algorithm that you can copy&paste to the platform).\n",
    "\n",
    "Lets take a quick look at the performance `DataFrame`. For this, we use `pandas` from inside the IPython Notebook and print the first ten rows. Note that `zipline` makes heavy usage of `pandas`, especially for data input and outputting so it's worth spending some time to learn it."
   ]
  },
  {
   "cell_type": "code",
   "execution_count": 4,
   "metadata": {
    "collapsed": false
   },
   "outputs": [
    {
     "data": {
      "text/html": [
       "<div style=\"max-height:1000px;max-width:1500px;overflow:auto;\">\n",
       "<table border=\"1\" class=\"dataframe\">\n",
       "  <thead>\n",
       "    <tr style=\"text-align: right;\">\n",
       "      <th></th>\n",
       "      <th>AAPL</th>\n",
       "      <th>algo_volatility</th>\n",
       "      <th>algorithm_period_return</th>\n",
       "      <th>alpha</th>\n",
       "      <th>benchmark_period_return</th>\n",
       "      <th>benchmark_volatility</th>\n",
       "      <th>beta</th>\n",
       "      <th>capital_used</th>\n",
       "      <th>ending_cash</th>\n",
       "      <th>ending_exposure</th>\n",
       "      <th>...</th>\n",
       "      <th>short_exposure</th>\n",
       "      <th>short_value</th>\n",
       "      <th>shorts_count</th>\n",
       "      <th>sortino</th>\n",
       "      <th>starting_cash</th>\n",
       "      <th>starting_exposure</th>\n",
       "      <th>starting_value</th>\n",
       "      <th>trading_days</th>\n",
       "      <th>transactions</th>\n",
       "      <th>treasury_period_return</th>\n",
       "    </tr>\n",
       "  </thead>\n",
       "  <tbody>\n",
       "    <tr>\n",
       "      <th>2000-01-03 21:00:00</th>\n",
       "      <td>3.738314</td>\n",
       "      <td>0.000000e+00</td>\n",
       "      <td>0.000000e+00</td>\n",
       "      <td>-0.065800</td>\n",
       "      <td>-0.009549</td>\n",
       "      <td>0.000000</td>\n",
       "      <td>0.000000</td>\n",
       "      <td>0.00000</td>\n",
       "      <td>10000000.00000</td>\n",
       "      <td>0.00000</td>\n",
       "      <td>...</td>\n",
       "      <td>0</td>\n",
       "      <td>0</td>\n",
       "      <td>0</td>\n",
       "      <td>0.000000</td>\n",
       "      <td>10000000.00000</td>\n",
       "      <td>0.00000</td>\n",
       "      <td>0.00000</td>\n",
       "      <td>1</td>\n",
       "      <td>[]</td>\n",
       "      <td>0.0658</td>\n",
       "    </tr>\n",
       "    <tr>\n",
       "      <th>2000-01-04 21:00:00</th>\n",
       "      <td>3.423135</td>\n",
       "      <td>3.367492e-07</td>\n",
       "      <td>-3.000000e-08</td>\n",
       "      <td>-0.064897</td>\n",
       "      <td>-0.047528</td>\n",
       "      <td>0.323229</td>\n",
       "      <td>0.000001</td>\n",
       "      <td>-34.53135</td>\n",
       "      <td>9999965.46865</td>\n",
       "      <td>34.23135</td>\n",
       "      <td>...</td>\n",
       "      <td>0</td>\n",
       "      <td>0</td>\n",
       "      <td>0</td>\n",
       "      <td>0.000000</td>\n",
       "      <td>10000000.00000</td>\n",
       "      <td>0.00000</td>\n",
       "      <td>0.00000</td>\n",
       "      <td>2</td>\n",
       "      <td>[{u'order_id': u'513357725cb64a539e3dd02b47da7...</td>\n",
       "      <td>0.0649</td>\n",
       "    </tr>\n",
       "    <tr>\n",
       "      <th>2000-01-05 21:00:00</th>\n",
       "      <td>3.473229</td>\n",
       "      <td>4.001918e-07</td>\n",
       "      <td>-9.906000e-09</td>\n",
       "      <td>-0.066196</td>\n",
       "      <td>-0.045697</td>\n",
       "      <td>0.329321</td>\n",
       "      <td>0.000001</td>\n",
       "      <td>-35.03229</td>\n",
       "      <td>9999930.43636</td>\n",
       "      <td>69.46458</td>\n",
       "      <td>...</td>\n",
       "      <td>0</td>\n",
       "      <td>0</td>\n",
       "      <td>0</td>\n",
       "      <td>0.000000</td>\n",
       "      <td>9999965.46865</td>\n",
       "      <td>34.23135</td>\n",
       "      <td>34.23135</td>\n",
       "      <td>3</td>\n",
       "      <td>[{u'order_id': u'd7d4ad03cfec4d578c0d817dc3829...</td>\n",
       "      <td>0.0662</td>\n",
       "    </tr>\n",
       "    <tr>\n",
       "      <th>2000-01-06 21:00:00</th>\n",
       "      <td>3.172661</td>\n",
       "      <td>4.993979e-06</td>\n",
       "      <td>-6.410420e-07</td>\n",
       "      <td>-0.065758</td>\n",
       "      <td>-0.044785</td>\n",
       "      <td>0.298325</td>\n",
       "      <td>-0.000006</td>\n",
       "      <td>-32.02661</td>\n",
       "      <td>9999898.40975</td>\n",
       "      <td>95.17983</td>\n",
       "      <td>...</td>\n",
       "      <td>0</td>\n",
       "      <td>0</td>\n",
       "      <td>0</td>\n",
       "      <td>-12731.780516</td>\n",
       "      <td>9999930.43636</td>\n",
       "      <td>69.46458</td>\n",
       "      <td>69.46458</td>\n",
       "      <td>4</td>\n",
       "      <td>[{u'order_id': u'1fbf5e9bfd7c4d9cb2e8383e1085e...</td>\n",
       "      <td>0.0657</td>\n",
       "    </tr>\n",
       "    <tr>\n",
       "      <th>2000-01-07 21:00:00</th>\n",
       "      <td>3.322945</td>\n",
       "      <td>5.977002e-06</td>\n",
       "      <td>-2.201900e-07</td>\n",
       "      <td>-0.065206</td>\n",
       "      <td>-0.018908</td>\n",
       "      <td>0.375301</td>\n",
       "      <td>0.000005</td>\n",
       "      <td>-33.52945</td>\n",
       "      <td>9999864.88030</td>\n",
       "      <td>132.91780</td>\n",
       "      <td>...</td>\n",
       "      <td>0</td>\n",
       "      <td>0</td>\n",
       "      <td>0</td>\n",
       "      <td>-12629.274583</td>\n",
       "      <td>9999898.40975</td>\n",
       "      <td>95.17983</td>\n",
       "      <td>95.17983</td>\n",
       "      <td>5</td>\n",
       "      <td>[{u'order_id': u'9ea6b142ff09466b9113331a37437...</td>\n",
       "      <td>0.0652</td>\n",
       "    </tr>\n",
       "  </tbody>\n",
       "</table>\n",
       "<p>5 rows × 39 columns</p>\n",
       "</div>"
      ],
      "text/plain": [
       "                         AAPL  algo_volatility  algorithm_period_return  \\\n",
       "2000-01-03 21:00:00  3.738314     0.000000e+00             0.000000e+00   \n",
       "2000-01-04 21:00:00  3.423135     3.367492e-07            -3.000000e-08   \n",
       "2000-01-05 21:00:00  3.473229     4.001918e-07            -9.906000e-09   \n",
       "2000-01-06 21:00:00  3.172661     4.993979e-06            -6.410420e-07   \n",
       "2000-01-07 21:00:00  3.322945     5.977002e-06            -2.201900e-07   \n",
       "\n",
       "                        alpha  benchmark_period_return  benchmark_volatility  \\\n",
       "2000-01-03 21:00:00 -0.065800                -0.009549              0.000000   \n",
       "2000-01-04 21:00:00 -0.064897                -0.047528              0.323229   \n",
       "2000-01-05 21:00:00 -0.066196                -0.045697              0.329321   \n",
       "2000-01-06 21:00:00 -0.065758                -0.044785              0.298325   \n",
       "2000-01-07 21:00:00 -0.065206                -0.018908              0.375301   \n",
       "\n",
       "                         beta  capital_used     ending_cash  ending_exposure  \\\n",
       "2000-01-03 21:00:00  0.000000       0.00000  10000000.00000          0.00000   \n",
       "2000-01-04 21:00:00  0.000001     -34.53135   9999965.46865         34.23135   \n",
       "2000-01-05 21:00:00  0.000001     -35.03229   9999930.43636         69.46458   \n",
       "2000-01-06 21:00:00 -0.000006     -32.02661   9999898.40975         95.17983   \n",
       "2000-01-07 21:00:00  0.000005     -33.52945   9999864.88030        132.91780   \n",
       "\n",
       "                              ...            short_exposure  short_value  \\\n",
       "2000-01-03 21:00:00           ...                         0            0   \n",
       "2000-01-04 21:00:00           ...                         0            0   \n",
       "2000-01-05 21:00:00           ...                         0            0   \n",
       "2000-01-06 21:00:00           ...                         0            0   \n",
       "2000-01-07 21:00:00           ...                         0            0   \n",
       "\n",
       "                     shorts_count       sortino   starting_cash  \\\n",
       "2000-01-03 21:00:00             0      0.000000  10000000.00000   \n",
       "2000-01-04 21:00:00             0      0.000000  10000000.00000   \n",
       "2000-01-05 21:00:00             0      0.000000   9999965.46865   \n",
       "2000-01-06 21:00:00             0 -12731.780516   9999930.43636   \n",
       "2000-01-07 21:00:00             0 -12629.274583   9999898.40975   \n",
       "\n",
       "                     starting_exposure  starting_value  trading_days  \\\n",
       "2000-01-03 21:00:00            0.00000         0.00000             1   \n",
       "2000-01-04 21:00:00            0.00000         0.00000             2   \n",
       "2000-01-05 21:00:00           34.23135        34.23135             3   \n",
       "2000-01-06 21:00:00           69.46458        69.46458             4   \n",
       "2000-01-07 21:00:00           95.17983        95.17983             5   \n",
       "\n",
       "                                                          transactions  \\\n",
       "2000-01-03 21:00:00                                                 []   \n",
       "2000-01-04 21:00:00  [{u'order_id': u'513357725cb64a539e3dd02b47da7...   \n",
       "2000-01-05 21:00:00  [{u'order_id': u'd7d4ad03cfec4d578c0d817dc3829...   \n",
       "2000-01-06 21:00:00  [{u'order_id': u'1fbf5e9bfd7c4d9cb2e8383e1085e...   \n",
       "2000-01-07 21:00:00  [{u'order_id': u'9ea6b142ff09466b9113331a37437...   \n",
       "\n",
       "                     treasury_period_return  \n",
       "2000-01-03 21:00:00                  0.0658  \n",
       "2000-01-04 21:00:00                  0.0649  \n",
       "2000-01-05 21:00:00                  0.0662  \n",
       "2000-01-06 21:00:00                  0.0657  \n",
       "2000-01-07 21:00:00                  0.0652  \n",
       "\n",
       "[5 rows x 39 columns]"
      ]
     },
     "execution_count": 4,
     "metadata": {},
     "output_type": "execute_result"
    }
   ],
   "source": [
    "import pandas as pd\n",
    "perf = pd.read_pickle('buyapple_out.pickle') # read in perf DataFrame\n",
    "perf.head()"
   ]
  },
  {
   "cell_type": "markdown",
   "metadata": {},
   "source": [
    "As you can see, there is a row for each trading day, starting on the first business day of 2000. In the columns you can find various information about the state of your algorithm. The very first column `AAPL` was placed there by the `record()` function mentioned earlier and allows us to plot the price of apple. For example, we could easily examine now how our portfolio value changed over time compared to the AAPL stock price."
   ]
  },
  {
   "cell_type": "code",
   "execution_count": 5,
   "metadata": {
    "collapsed": false
   },
   "outputs": [
    {
     "name": "stdout",
     "output_type": "stream",
     "text": [
      "Populating the interactive namespace from numpy and matplotlib\n"
     ]
    },
    {
     "data": {
      "text/plain": [
       "<matplotlib.text.Text at 0x7ff5c6147f90>"
      ]
     },
     "execution_count": 5,
     "metadata": {},
     "output_type": "execute_result"
    },
    {
     "data": {
      "image/png": "[encoded data removed]",
      "text/plain": [
       "<matplotlib.figure.Figure at 0x7ff5c84696d0>"
      ]
     },
     "metadata": {},
     "output_type": "display_data"
    }
   ],
   "source": [
    "%pylab inline\n",
    "figsize(12, 12)\n",
    "import matplotlib.pyplot as plt\n",
    "\n",
    "ax1 = plt.subplot(211)\n",
    "perf.portfolio_value.plot(ax=ax1)\n",
    "ax1.set_ylabel('portfolio value')\n",
    "ax2 = plt.subplot(212, sharex=ax1)\n",
    "perf.AAPL.plot(ax=ax2)\n",
    "ax2.set_ylabel('AAPL stock price')"
   ]
  },
  {
   "cell_type": "markdown",
   "metadata": {},
   "source": [
    "As you can see, our algorithm performance as assessed by the `portfolio_value` closely matches that of the AAPL stock price. This is not surprising as our algorithm only bought AAPL every chance it got."
   ]
  },
  {
   "cell_type": "markdown",
   "metadata": {},
   "source": [
    "### IPython Notebook\n",
    "\n",
    "The [IPython Notebook](http://ipython.org/notebook.html) is a very powerful browser-based interface to a Python interpreter (this tutorial was written in it). As it is already the de-facto interface for most quantitative researchers `zipline` provides an easy way to run your algorithm inside the Notebook without requiring you to use the CLI. \n",
    "\n",
    "To use it you have to write your algorithm in a cell and let `zipline` know that it is supposed to run this algorithm. This is done via the `%%zipline` IPython magic command that is available after you `import zipline` from within the IPython Notebook. This magic takes the same arguments as the command line interface described above. Thus to run the algorithm from above with the same parameters we just have to execute the following cell after importing `zipline` to register the magic."
   ]
  },
  {
   "cell_type": "code",
   "execution_count": 6,
   "metadata": {
    "collapsed": false
   },
   "outputs": [],
   "source": [
    "import zipline"
   ]
  },
  {
   "cell_type": "code",
   "execution_count": 7,
   "metadata": {
    "collapsed": false
   },
   "outputs": [
    {
     "name": "stdout",
     "output_type": "stream",
     "text": [
      "AAPL\n"
     ]
    }
   ],
   "source": [
    "%%zipline --start 2000-1-1 --end 2014-1-1 --symbols AAPL -o perf_ipython\n",
    "\n",
    "from zipline.api import symbol, order, record\n",
    "\n",
    "def initialize(context):\n",
    "    pass\n",
    "\n",
    "def handle_data(context, data):\n",
    "    order(symbol('AAPL'), 10)\n",
    "    record(AAPL=data[symbol('AAPL')].price)"
   ]
  },
  {
   "cell_type": "markdown",
   "metadata": {},
   "source": [
    "Note that we did not have to specify an input file as above since the magic will use the contents of the cell and look for your algorithm functions there. Also, instead of defining an output file we are specifying a variable name with `-o` that will be created in the name space and contain the performance `DataFrame` we looked at above."
   ]
  },
  {
   "cell_type": "code",
   "execution_count": 8,
   "metadata": {
    "collapsed": false
   },
   "outputs": [
    {
     "data": {
      "text/html": [
       "<div style=\"max-height:1000px;max-width:1500px;overflow:auto;\">\n",
       "<table border=\"1\" class=\"dataframe\">\n",
       "  <thead>\n",
       "    <tr style=\"text-align: right;\">\n",
       "      <th></th>\n",
       "      <th>AAPL</th>\n",
       "      <th>algo_volatility</th>\n",
       "      <th>algorithm_period_return</th>\n",
       "      <th>alpha</th>\n",
       "      <th>benchmark_period_return</th>\n",
       "      <th>benchmark_volatility</th>\n",
       "      <th>beta</th>\n",
       "      <th>capital_used</th>\n",
       "      <th>ending_cash</th>\n",
       "      <th>ending_exposure</th>\n",
       "      <th>...</th>\n",
       "      <th>short_exposure</th>\n",
       "      <th>short_value</th>\n",
       "      <th>shorts_count</th>\n",
       "      <th>sortino</th>\n",
       "      <th>starting_cash</th>\n",
       "      <th>starting_exposure</th>\n",
       "      <th>starting_value</th>\n",
       "      <th>trading_days</th>\n",
       "      <th>transactions</th>\n",
       "      <th>treasury_period_return</th>\n",
       "    </tr>\n",
       "  </thead>\n",
       "  <tbody>\n",
       "    <tr>\n",
       "      <th>2000-01-03 21:00:00</th>\n",
       "      <td>3.738314</td>\n",
       "      <td>0.000000e+00</td>\n",
       "      <td>0.000000e+00</td>\n",
       "      <td>-0.065800</td>\n",
       "      <td>-0.009549</td>\n",
       "      <td>0.000000</td>\n",
       "      <td>0.000000</td>\n",
       "      <td>0.00000</td>\n",
       "      <td>10000000.00000</td>\n",
       "      <td>0.00000</td>\n",
       "      <td>...</td>\n",
       "      <td>0</td>\n",
       "      <td>0</td>\n",
       "      <td>0</td>\n",
       "      <td>0.000000</td>\n",
       "      <td>10000000.00000</td>\n",
       "      <td>0.00000</td>\n",
       "      <td>0.00000</td>\n",
       "      <td>1</td>\n",
       "      <td>[]</td>\n",
       "      <td>0.0658</td>\n",
       "    </tr>\n",
       "    <tr>\n",
       "      <th>2000-01-04 21:00:00</th>\n",
       "      <td>3.423135</td>\n",
       "      <td>3.367492e-07</td>\n",
       "      <td>-3.000000e-08</td>\n",
       "      <td>-0.064897</td>\n",
       "      <td>-0.047528</td>\n",
       "      <td>0.323229</td>\n",
       "      <td>0.000001</td>\n",
       "      <td>-34.53135</td>\n",
       "      <td>9999965.46865</td>\n",
       "      <td>34.23135</td>\n",
       "      <td>...</td>\n",
       "      <td>0</td>\n",
       "      <td>0</td>\n",
       "      <td>0</td>\n",
       "      <td>0.000000</td>\n",
       "      <td>10000000.00000</td>\n",
       "      <td>0.00000</td>\n",
       "      <td>0.00000</td>\n",
       "      <td>2</td>\n",
       "      <td>[{u'commission': 0.3, u'amount': 10, u'sid': 0...</td>\n",
       "      <td>0.0649</td>\n",
       "    </tr>\n",
       "    <tr>\n",
       "      <th>2000-01-05 21:00:00</th>\n",
       "      <td>3.473229</td>\n",
       "      <td>4.001918e-07</td>\n",
       "      <td>-9.906000e-09</td>\n",
       "      <td>-0.066196</td>\n",
       "      <td>-0.045697</td>\n",
       "      <td>0.329321</td>\n",
       "      <td>0.000001</td>\n",
       "      <td>-35.03229</td>\n",
       "      <td>9999930.43636</td>\n",
       "      <td>69.46458</td>\n",
       "      <td>...</td>\n",
       "      <td>0</td>\n",
       "      <td>0</td>\n",
       "      <td>0</td>\n",
       "      <td>0.000000</td>\n",
       "      <td>9999965.46865</td>\n",
       "      <td>34.23135</td>\n",
       "      <td>34.23135</td>\n",
       "      <td>3</td>\n",
       "      <td>[{u'commission': 0.3, u'amount': 10, u'sid': 0...</td>\n",
       "      <td>0.0662</td>\n",
       "    </tr>\n",
       "    <tr>\n",
       "      <th>2000-01-06 21:00:00</th>\n",
       "      <td>3.172661</td>\n",
       "      <td>4.993979e-06</td>\n",
       "      <td>-6.410420e-07</td>\n",
       "      <td>-0.065758</td>\n",
       "      <td>-0.044785</td>\n",
       "      <td>0.298325</td>\n",
       "      <td>-0.000006</td>\n",
       "      <td>-32.02661</td>\n",
       "      <td>9999898.40975</td>\n",
       "      <td>95.17983</td>\n",
       "      <td>...</td>\n",
       "      <td>0</td>\n",
       "      <td>0</td>\n",
       "      <td>0</td>\n",
       "      <td>-12731.780516</td>\n",
       "      <td>9999930.43636</td>\n",
       "      <td>69.46458</td>\n",
       "      <td>69.46458</td>\n",
       "      <td>4</td>\n",
       "      <td>[{u'commission': 0.3, u'amount': 10, u'sid': 0...</td>\n",
       "      <td>0.0657</td>\n",
       "    </tr>\n",
       "    <tr>\n",
       "      <th>2000-01-07 21:00:00</th>\n",
       "      <td>3.322945</td>\n",
       "      <td>5.977002e-06</td>\n",
       "      <td>-2.201900e-07</td>\n",
       "      <td>-0.065206</td>\n",
       "      <td>-0.018908</td>\n",
       "      <td>0.375301</td>\n",
       "      <td>0.000005</td>\n",
       "      <td>-33.52945</td>\n",
       "      <td>9999864.88030</td>\n",
       "      <td>132.91780</td>\n",
       "      <td>...</td>\n",
       "      <td>0</td>\n",
       "      <td>0</td>\n",
       "      <td>0</td>\n",
       "      <td>-12629.274583</td>\n",
       "      <td>9999898.40975</td>\n",
       "      <td>95.17983</td>\n",
       "      <td>95.17983</td>\n",
       "      <td>5</td>\n",
       "      <td>[{u'commission': 0.3, u'amount': 10, u'sid': 0...</td>\n",
       "      <td>0.0652</td>\n",
       "    </tr>\n",
       "  </tbody>\n",
       "</table>\n",
       "<p>5 rows × 39 columns</p>\n",
       "</div>"
      ],
      "text/plain": [
       "                         AAPL  algo_volatility  algorithm_period_return  \\\n",
       "2000-01-03 21:00:00  3.738314     0.000000e+00             0.000000e+00   \n",
       "2000-01-04 21:00:00  3.423135     3.367492e-07            -3.000000e-08   \n",
       "2000-01-05 21:00:00  3.473229     4.001918e-07            -9.906000e-09   \n",
       "2000-01-06 21:00:00  3.172661     4.993979e-06            -6.410420e-07   \n",
       "2000-01-07 21:00:00  3.322945     5.977002e-06            -2.201900e-07   \n",
       "\n",
       "                        alpha  benchmark_period_return  benchmark_volatility  \\\n",
       "2000-01-03 21:00:00 -0.065800                -0.009549              0.000000   \n",
       "2000-01-04 21:00:00 -0.064897                -0.047528              0.323229   \n",
       "2000-01-05 21:00:00 -0.066196                -0.045697              0.329321   \n",
       "2000-01-06 21:00:00 -0.065758                -0.044785              0.298325   \n",
       "2000-01-07 21:00:00 -0.065206                -0.018908              0.375301   \n",
       "\n",
       "                         beta  capital_used     ending_cash  ending_exposure  \\\n",
       "2000-01-03 21:00:00  0.000000       0.00000  10000000.00000          0.00000   \n",
       "2000-01-04 21:00:00  0.000001     -34.53135   9999965.46865         34.23135   \n",
       "2000-01-05 21:00:00  0.000001     -35.03229   9999930.43636         69.46458   \n",
       "2000-01-06 21:00:00 -0.000006     -32.02661   9999898.40975         95.17983   \n",
       "2000-01-07 21:00:00  0.000005     -33.52945   9999864.88030        132.91780   \n",
       "\n",
       "                              ...            short_exposure  short_value  \\\n",
       "2000-01-03 21:00:00           ...                         0            0   \n",
       "2000-01-04 21:00:00           ...                         0            0   \n",
       "2000-01-05 21:00:00           ...                         0            0   \n",
       "2000-01-06 21:00:00           ...                         0            0   \n",
       "2000-01-07 21:00:00           ...                         0            0   \n",
       "\n",
       "                     shorts_count       sortino   starting_cash  \\\n",
       "2000-01-03 21:00:00             0      0.000000  10000000.00000   \n",
       "2000-01-04 21:00:00             0      0.000000  10000000.00000   \n",
       "2000-01-05 21:00:00             0      0.000000   9999965.46865   \n",
       "2000-01-06 21:00:00             0 -12731.780516   9999930.43636   \n",
       "2000-01-07 21:00:00             0 -12629.274583   9999898.40975   \n",
       "\n",
       "                     starting_exposure  starting_value  trading_days  \\\n",
       "2000-01-03 21:00:00            0.00000         0.00000             1   \n",
       "2000-01-04 21:00:00            0.00000         0.00000             2   \n",
       "2000-01-05 21:00:00           34.23135        34.23135             3   \n",
       "2000-01-06 21:00:00           69.46458        69.46458             4   \n",
       "2000-01-07 21:00:00           95.17983        95.17983             5   \n",
       "\n",
       "                                                          transactions  \\\n",
       "2000-01-03 21:00:00                                                 []   \n",
       "2000-01-04 21:00:00  [{u'commission': 0.3, u'amount': 10, u'sid': 0...   \n",
       "2000-01-05 21:00:00  [{u'commission': 0.3, u'amount': 10, u'sid': 0...   \n",
       "2000-01-06 21:00:00  [{u'commission': 0.3, u'amount': 10, u'sid': 0...   \n",
       "2000-01-07 21:00:00  [{u'commission': 0.3, u'amount': 10, u'sid': 0...   \n",
       "\n",
       "                     treasury_period_return  \n",
       "2000-01-03 21:00:00                  0.0658  \n",
       "2000-01-04 21:00:00                  0.0649  \n",
       "2000-01-05 21:00:00                  0.0662  \n",
       "2000-01-06 21:00:00                  0.0657  \n",
       "2000-01-07 21:00:00                  0.0652  \n",
       "\n",
       "[5 rows x 39 columns]"
      ]
     },
     "execution_count": 8,
     "metadata": {},
     "output_type": "execute_result"
    }
   ],
   "source": [
    "perf_ipython.head()"
   ]
  },
  {
   "cell_type": "markdown",
   "metadata": {},
   "source": [
    "### Manual (advanced)\n",
    "\n",
    "If you are happy with either way above you can safely skip this passage. To provide a closer look at how `zipline` actually works it is instructive to see how we run an algorithm without any of the interfaces demonstrated above which hide the actual `zipline` API."
   ]
  },
  {
   "cell_type": "code",
   "execution_count": 9,
   "metadata": {
    "collapsed": false
   },
   "outputs": [
    {
     "name": "stdout",
     "output_type": "stream",
     "text": [
      "AAPL\n"
     ]
    }
   ],
   "source": [
    "import pytz\n",
    "from datetime import datetime\n",
    "\n",
    "from zipline.algorithm import TradingAlgorithm\n",
    "from zipline.utils.factory import load_bars_from_yahoo\n",
    "\n",
    "# Load data manually from Yahoo! finance\n",
    "start = datetime(2000, 1, 1, 0, 0, 0, 0, pytz.utc)\n",
    "end = datetime(2012, 1, 1, 0, 0, 0, 0, pytz.utc)\n",
    "data = load_bars_from_yahoo(stocks=['AAPL'], start=start,\n",
    "                            end=end)\n",
    "\n",
    "# Define algorithm\n",
    "def initialize(context):\n",
    "    pass\n",
    "\n",
    "def handle_data(context, data):\n",
    "    order(symbol('AAPL'), 10)\n",
    "    record(AAPL=data[symbol('AAPL')].price)\n",
    "\n",
    "# Create algorithm object passing in initialize and\n",
    "# handle_data functions\n",
    "algo_obj = TradingAlgorithm(initialize=initialize, \n",
    "                            handle_data=handle_data)\n",
    "\n",
    "# Run algorithm\n",
    "perf_manual = algo_obj.run(data)"
   ]
  },
  {
   "cell_type": "markdown",
   "metadata": {},
   "source": [
    "As you can see, we again define the functions as above but we manually pass them to the `TradingAlgorithm` class which is the main `zipline` class for running algorithms. We also manually load the data using `load_bars_from_yahoo()` and pass it to the `TradingAlgorithm.run()` method which kicks off the backtest simulation."
   ]
  },
  {
   "cell_type": "markdown",
   "metadata": {},
   "source": [
    "##Access to previous prices using `history`\n",
    "\n",
    "###Working example: Dual Moving Average Cross-Over\n",
    "\n",
    "The Dual Moving Average (DMA) is a classic momentum strategy. It's probably not used by any serious trader anymore but is still very instructive. The basic idea is that we compute two rolling or moving averages (mavg) -- one with a longer window that is supposed to capture long-term trends and one shorter window that is supposed to capture short-term trends. Once the short-mavg crosses the long-mavg from below we assume that the stock price has upwards momentum and long the stock. If the short-mavg crosses from above we exit the positions as we assume the stock to go down further.\n",
    "\n",
    "As we need to have access to previous prices to implement this strategy we need a new concept: History\n",
    "\n",
    "`history()` is a convenience function that keeps a rolling window of data for you. The first argument is the number of bars you want to collect, the second argument is the unit (either `'1d'` for `'1m'` but note that you need to have minute-level data for using `1m`). For a more detailed description `history()`'s features, see the [Quantopian docs](https://www.quantopian.com/help#ide-history). Let's look at the strategy which should make this clear:"
   ]
  },
  {
   "cell_type": "code",
   "execution_count": 10,
   "metadata": {
    "collapsed": false
   },
   "outputs": [
    {
     "name": "stdout",
     "output_type": "stream",
     "text": [
      "AAPL\n"
     ]
    },
    {
     "data": {
      "image/png": "[encoded data removed]",
      "text/plain": [
       "<matplotlib.figure.Figure at 0x7ff5c3d642d0>"
      ]
     },
     "metadata": {},
     "output_type": "display_data"
    }
   ],
   "source": [
    "%%zipline --start 2000-1-1 --end 2014-1-1 --symbols AAPL -o perf_dma\n",
    "\n",
    "\n",
    "from zipline.api import order_target, record, symbol, history\n",
    "import numpy as np\n",
    "\n",
    "def initialize(context):\n",
    "    context.i = 0\n",
    "\n",
    "\n",
    "def handle_data(context, data):\n",
    "    # Skip first 300 days to get full windows\n",
    "    context.i += 1\n",
    "    if context.i < 300:\n",
    "        return\n",
    "\n",
    "    # Compute averages\n",
    "    # history() has to be called with the same params\n",
    "    # from above and returns a pandas dataframe.\n",
    "    short_mavg = history(100, '1d', 'price').mean()\n",
    "    long_mavg = history(300, '1d', 'price').mean()\n",
    "\n",
    "    # Trading logic\n",
    "    if short_mavg[0] > long_mavg[0]:\n",
    "        # order_target orders as many shares as needed to\n",
    "        # achieve the desired number of shares.\n",
    "        order_target(symbol('AAPL'), 100)\n",
    "    elif short_mavg[0] < long_mavg[0]:\n",
    "        order_target(symbol('AAPL'), 0)\n",
    "\n",
    "    # Save values for later inspection\n",
    "    record(AAPL=data[symbol('AAPL')].price,\n",
    "           short_mavg=short_mavg[0],\n",
    "           long_mavg=long_mavg[0])\n",
    "    \n",
    "    \n",
    "def analyze(context, perf):\n",
    "    fig = plt.figure()\n",
    "    ax1 = fig.add_subplot(211)\n",
    "    perf.portfolio_value.plot(ax=ax1)\n",
    "    ax1.set_ylabel('portfolio value in $')\n",
    "\n",
    "    ax2 = fig.add_subplot(212)\n",
    "    perf['AAPL'].plot(ax=ax2)\n",
    "    perf[['short_mavg', 'long_mavg']].plot(ax=ax2)\n",
    "\n",
    "    perf_trans = perf.ix[[t != [] for t in perf.transactions]]\n",
    "    buys = perf_trans.ix[[t[0]['amount'] > 0 for t in perf_trans.transactions]]\n",
    "    sells = perf_trans.ix[\n",
    "        [t[0]['amount'] < 0 for t in perf_trans.transactions]]\n",
    "    ax2.plot(buys.index, perf.short_mavg.ix[buys.index],\n",
    "             '^', markersize=10, color='m')\n",
    "    ax2.plot(sells.index, perf.short_mavg.ix[sells.index],\n",
    "             'v', markersize=10, color='k')\n",
    "    ax2.set_ylabel('price in $')\n",
    "    plt.legend(loc=0)\n",
    "    plt.show()"
   ]
  },
  {
   "cell_type": "markdown",
   "metadata": {},
   "source": [
    "Here we are explicitly defining an `analyze()` function that gets automatically called once the backtest is done (this is not possible on Quantopian currently).\n",
    "\n",
    "Although it might not be directly apparent, the power of `history()` (pun intended) can not be under-estimated as most algorithms make use of prior market developments in one form or another. You could easily devise a strategy that trains a classifier with [`scikit-learn`](http://scikit-learn.org/stable/) which tries to predict future market movements based on past prices (note, that most of the `scikit-learn` functions require `numpy.ndarray`s rather than `pandas.DataFrame`s, so you can simply pass the underlying `ndarray` of a `DataFrame` via `.values`).\n",
    "\n",
    "We also used the `order_target()` function above. This and other functions like it can make order management and portfolio rebalancing much easier. See the [Quantopian documentation on order functions](https://www.quantopian.com/help#api-order-methods) fore more details.\n",
    "\n",
    "# Conclusions\n",
    "\n",
    "We hope that this tutorial gave you a little insight into the architecture, API, and features of `zipline`. For next steps, check out some of the [examples](https://github.com/quantopian/zipline/tree/master/zipline/examples).\n",
    "\n",
    "Feel free to ask questions on [our mailing list](https://groups.google.com/forum/#!forum/zipline), report problems on our [GitHub issue tracker](https://github.com/quantopian/zipline/issues?state=open), [get involved](https://github.com/quantopian/zipline/wiki/Contribution-Requests), and [checkout Quantopian](https://quantopian.com)."
   ]
  }
 ],
 "metadata": {
  "kernelspec": {
   "display_name": "Python 2",
   "language": "python",
   "name": "python2"
  },
  "language_info": {
   "codemirror_mode": {
    "name": "ipython",
    "version": 2
   },
   "file_extension": ".py",
   "mimetype": "text/x-python",
   "name": "python",
   "nbconvert_exporter": "python",
   "pygments_lexer": "ipython2",
   "version": "2.7.10"
  }
 },
 "nbformat": 4,
 "nbformat_minor": 0
}
